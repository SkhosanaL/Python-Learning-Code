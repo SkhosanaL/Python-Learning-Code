{
 "cells": [
  {
   "cell_type": "code",
   "execution_count": 5,
   "id": "31b1b2a7",
   "metadata": {},
   "outputs": [
    {
     "name": "stdout",
     "output_type": "stream",
     "text": [
      "Opened database successfully\n"
     ]
    }
   ],
   "source": [
    "import psycopg2\n",
    "\n",
    "conn = psycopg2.connect(database=\"postgres\", user = \"postgres\", password = \"postgres\", host = \"localhost\", port = \"5432\")\n",
    "\n",
    "print (\"Opened database successfully\")\n"
   ]
  },
  {
   "cell_type": "code",
   "execution_count": 7,
   "id": "1fda9d14",
   "metadata": {},
   "outputs": [
    {
     "name": "stdout",
     "output_type": "stream",
     "text": [
      "Table created successfully\n"
     ]
    }
   ],
   "source": [
    "cur = conn.cursor()\n",
    "cur.execute('''CREATE TABLE COMPANY\n",
    "      (ID INT PRIMARY KEY     NOT NULL,\n",
    "      NAME           TEXT    NOT NULL,\n",
    "      AGE            INT     NOT NULL,\n",
    "      ADDRESS        CHAR(50),\n",
    "      SALARY         REAL);''')\n",
    "print (\"Table created successfully\") \n",
    "\n",
    "conn.commit()\n",
    "conn.close()"
   ]
  },
  {
   "cell_type": "code",
   "execution_count": 8,
   "id": "e42dc8b9",
   "metadata": {},
   "outputs": [
    {
     "ename": "InterfaceError",
     "evalue": "connection already closed",
     "output_type": "error",
     "traceback": [
      "\u001b[1;31m---------------------------------------------------------------------------\u001b[0m",
      "\u001b[1;31mInterfaceError\u001b[0m                            Traceback (most recent call last)",
      "Cell \u001b[1;32mIn[8], line 1\u001b[0m\n\u001b[1;32m----> 1\u001b[0m cur\u001b[38;5;241m=\u001b[39mconn\u001b[38;5;241m.\u001b[39mcursor()\n\u001b[0;32m      2\u001b[0m cur\u001b[38;5;241m.\u001b[39mexecute(\u001b[38;5;124m\"\u001b[39m\u001b[38;5;124mINSERT INTO COMPANY(ID,NAME,AGE,ADDRESS, SALARY)\u001b[39m\u001b[38;5;130;01m\\\u001b[39;00m\n\u001b[0;32m      3\u001b[0m \u001b[38;5;124mVALUES(1,\u001b[39m\u001b[38;5;124m'\u001b[39m\u001b[38;5;124mPaul\u001b[39m\u001b[38;5;124m'\u001b[39m\u001b[38;5;124m,32,\u001b[39m\u001b[38;5;124m'\u001b[39m\u001b[38;5;124mCalfornia\u001b[39m\u001b[38;5;124m'\u001b[39m\u001b[38;5;124m,20000.00)\u001b[39m\u001b[38;5;124m\"\u001b[39m)\n",
      "\u001b[1;31mInterfaceError\u001b[0m: connection already closed"
     ]
    }
   ],
   "source": [
    "cur=conn.cursor()\n",
    "cur.execute(\"INSERT INTO COMPANY(ID,NAME,AGE,ADDRESS, SALARY)\\\n",
    "VALUES(1,'Paul',32,'Calfornia',20000.00)\");"
   ]
  },
  {
   "cell_type": "code",
   "execution_count": 9,
   "id": "db4935a9",
   "metadata": {},
   "outputs": [
    {
     "name": "stdout",
     "output_type": "stream",
     "text": [
      "Opened database successfully\n"
     ]
    }
   ],
   "source": [
    "conn = psycopg2.connect(database=\"postgres\", user = \"postgres\", password = \"postgres\", host = \"localhost\", port = \"5432\")\n",
    "\n",
    "print (\"Opened database successfully\")"
   ]
  },
  {
   "cell_type": "code",
   "execution_count": 10,
   "id": "3c17f4e2",
   "metadata": {},
   "outputs": [],
   "source": [
    "cur=conn.cursor()\n",
    "cur.execute(\"INSERT INTO COMPANY(ID,NAME,AGE,ADDRESS, SALARY)\\\n",
    "VALUES(1,'Paul',32,'Calfornia',20000.00)\");"
   ]
  },
  {
   "cell_type": "code",
   "execution_count": 12,
   "id": "0fc1e078",
   "metadata": {},
   "outputs": [
    {
     "name": "stdout",
     "output_type": "stream",
     "text": [
      "Records created successfully\n"
     ]
    }
   ],
   "source": [
    "cur.execute(\"INSERT INTO COMPANY (ID,NAME,AGE,ADDRESS,SALARY) \\\n",
    "      VALUES (2, 'Allen', 25, 'Texas', 15000.00 )\");\n",
    "\n",
    "cur.execute(\"INSERT INTO COMPANY (ID,NAME,AGE,ADDRESS,SALARY) \\\n",
    "      VALUES (3, 'Teddy', 23, 'Norway', 20000.00 )\");\n",
    "\n",
    "cur.execute(\"INSERT INTO COMPANY (ID,NAME,AGE,ADDRESS,SALARY) \\\n",
    "      VALUES (4, 'Mark', 25, 'Rich-Mond ', 65000.00 )\");\n",
    "\n",
    "conn.commit()\n",
    "print(\"Records created successfully\");"
   ]
  },
  {
   "cell_type": "code",
   "execution_count": 21,
   "id": "e51bc090",
   "metadata": {},
   "outputs": [
    {
     "name": "stdout",
     "output_type": "stream",
     "text": [
      "ID = 1\n",
      "Name = Paul\n",
      "AGE = 32\n",
      "Address = Calfornia                                         \n",
      "SALARY =  20000.0 \n",
      "\n",
      "ID = 2\n",
      "Name = Allen\n",
      "AGE = 25\n",
      "Address = Texas                                             \n",
      "SALARY =  15000.0 \n",
      "\n",
      "ID = 3\n",
      "Name = Teddy\n",
      "AGE = 23\n",
      "Address = Norway                                            \n",
      "SALARY =  20000.0 \n",
      "\n",
      "ID = 4\n",
      "Name = Mark\n",
      "AGE = 25\n",
      "Address = Rich-Mond                                         \n",
      "SALARY =  65000.0 \n",
      "\n",
      "Operations done successfully\n"
     ]
    }
   ],
   "source": [
    "conn = psycopg2.connect(database=\"postgres\", user = \"postgres\", password = \"postgres\", host = \"localhost\", port = \"5432\")\n",
    "\n",
    "cur=conn.cursor()\n",
    "cur.execute(\"SELECT ID,NAME,AGE,ADDRESS,SALARY From COMPANY\")\n",
    "rows = cur.fetchall()\n",
    "for row in rows:\n",
    "    print(\"ID =\", row[0])\n",
    "    print(\"Name =\",row[1])\n",
    "    print(\"AGE =\", row[2])\n",
    "    print(\"Address =\",row[3])\n",
    "    print(\"SALARY = \", row[4],\"\\n\")\n",
    "print(\"Operations done successfully\")"
   ]
  },
  {
   "cell_type": "code",
   "execution_count": 30,
   "id": "d21431a1",
   "metadata": {},
   "outputs": [
    {
     "name": "stdout",
     "output_type": "stream",
     "text": [
      "Total number of rows updated : 1\n",
      "ID = 2\n",
      "Name = Allen\n",
      "Address = Texas                                             \n",
      "SALARY =  15000.0 \n",
      "\n",
      "ID = 3\n",
      "Name = Teddy\n",
      "Address = Norway                                            \n",
      "SALARY =  20000.0 \n",
      "\n",
      "ID = 4\n",
      "Name = Mark\n",
      "Address = Rich-Mond                                         \n",
      "SALARY =  65000.0 \n",
      "\n",
      "ID = 1\n",
      "Name = Paul\n",
      "Address = Calfornia                                         \n",
      "SALARY =  25000.0 \n",
      "\n",
      "Operations done successfully\n"
     ]
    }
   ],
   "source": [
    "conn = psycopg2.connect(database=\"postgres\", user = \"postgres\", password = \"postgres\", host = \"localhost\", port = \"5432\")\n",
    "\n",
    "cur=conn.cursor()\n",
    "\n",
    "cur.execute(\"UPDATE COMPANY set SALARY = 25000.00 where ID =1\")\n",
    "conn.commit()\n",
    "print(\"Total number of rows updated :\" , cur.rowcount)\n",
    "\n",
    "cur.execute(\"SELECT id, name, address, salary  from COMPANY\")\n",
    "\n",
    "rows = cur.fetchall()\n",
    "for row in rows:\n",
    "    print(\"ID =\", row[0])\n",
    "    print(\"Name =\",row[1])\n",
    "    print(\"Address =\",row[2])\n",
    "    print(\"SALARY = \", row[3],\"\\n\")\n",
    "print(\"Operations done successfully\")\n"
   ]
  },
  {
   "cell_type": "code",
   "execution_count": 26,
   "id": "d4bfe1ba",
   "metadata": {},
   "outputs": [
    {
     "ename": "ProgrammingError",
     "evalue": "no results to fetch",
     "output_type": "error",
     "traceback": [
      "\u001b[1;31m---------------------------------------------------------------------------\u001b[0m",
      "\u001b[1;31mProgrammingError\u001b[0m                          Traceback (most recent call last)",
      "Cell \u001b[1;32mIn[26], line 2\u001b[0m\n\u001b[0;32m      1\u001b[0m conn \u001b[38;5;241m=\u001b[39m psycopg2\u001b[38;5;241m.\u001b[39mconnect(database\u001b[38;5;241m=\u001b[39m\u001b[38;5;124m\"\u001b[39m\u001b[38;5;124mpostgres\u001b[39m\u001b[38;5;124m\"\u001b[39m, user \u001b[38;5;241m=\u001b[39m \u001b[38;5;124m\"\u001b[39m\u001b[38;5;124mpostgres\u001b[39m\u001b[38;5;124m\"\u001b[39m, password \u001b[38;5;241m=\u001b[39m \u001b[38;5;124m\"\u001b[39m\u001b[38;5;124mpostgres\u001b[39m\u001b[38;5;124m\"\u001b[39m, host \u001b[38;5;241m=\u001b[39m \u001b[38;5;124m\"\u001b[39m\u001b[38;5;124mlocalhost\u001b[39m\u001b[38;5;124m\"\u001b[39m, port \u001b[38;5;241m=\u001b[39m \u001b[38;5;124m\"\u001b[39m\u001b[38;5;124m5432\u001b[39m\u001b[38;5;124m\"\u001b[39m)\n\u001b[1;32m----> 2\u001b[0m rows \u001b[38;5;241m=\u001b[39m cur\u001b[38;5;241m.\u001b[39mfetchall()\n\u001b[0;32m      3\u001b[0m \u001b[38;5;28;01mfor\u001b[39;00m row \u001b[38;5;129;01min\u001b[39;00m rows:\n\u001b[0;32m      4\u001b[0m     \u001b[38;5;28mprint\u001b[39m(\u001b[38;5;124m\"\u001b[39m\u001b[38;5;124mID =\u001b[39m\u001b[38;5;124m\"\u001b[39m, row[\u001b[38;5;241m0\u001b[39m])\n",
      "\u001b[1;31mProgrammingError\u001b[0m: no results to fetch"
     ]
    }
   ],
   "source": [
    "conn = psycopg2.connect(database=\"postgres\", user = \"postgres\", password = \"postgres\", host = \"localhost\", port = \"5432\")\n",
    "rows = cur.fetchall()\n",
    "for row in rows:\n",
    "    print(\"ID =\", row[1])\n",
    "    print(\"Name =\",row[1])\n",
    "    print(\"AGE =\", row[2])\n",
    "    print(\"Address =\",row[3])\n",
    "    print(\"SALARY = \", row[4],\"\\n\")\n",
    "print(\"Operations done successfully\")"
   ]
  },
  {
   "cell_type": "code",
   "execution_count": 31,
   "id": "0d2d962c",
   "metadata": {},
   "outputs": [
    {
     "name": "stdout",
     "output_type": "stream",
     "text": [
      "Total number of rows deleted : 1\n",
      "ID = 3\n",
      "Name = Teddy\n",
      "Address = Norway                                            \n",
      "SALARY =  20000.0 \n",
      "\n",
      "ID = 4\n",
      "Name = Mark\n",
      "Address = Rich-Mond                                         \n",
      "SALARY =  65000.0 \n",
      "\n",
      "ID = 1\n",
      "Name = Paul\n",
      "Address = Calfornia                                         \n",
      "SALARY =  25000.0 \n",
      "\n",
      "Operations done successfully\n"
     ]
    }
   ],
   "source": [
    "conn = psycopg2.connect(database=\"postgres\", user = \"postgres\", password = \"postgres\", host = \"localhost\", port = \"5432\")\n",
    "\n",
    "cur=conn.cursor()\n",
    "\n",
    "cur.execute(\"DELETE FROM COMPANY where ID =2;\")\n",
    "conn.commit()\n",
    "print(\"Total number of rows deleted :\" , cur.rowcount)\n",
    "\n",
    "cur.execute(\"SELECT id, name, address, salary  from COMPANY\")\n",
    "\n",
    "rows = cur.fetchall()\n",
    "for row in rows:\n",
    "    print(\"ID =\", row[0])\n",
    "    print(\"Name =\",row[1])\n",
    "    print(\"Address =\",row[2])\n",
    "    print(\"SALARY = \", row[3],\"\\n\")\n",
    "    \n",
    "print(\"Operations done successfully\")"
   ]
  },
  {
   "cell_type": "code",
   "execution_count": 32,
   "id": "5f2f7389",
   "metadata": {},
   "outputs": [
    {
     "name": "stdout",
     "output_type": "stream",
     "text": [
      "Opened database successfully\n"
     ]
    }
   ],
   "source": [
    "conn = psycopg2.connect(database=\"postgres\", user = \"postgres\", password = \"postgres\", host = \"localhost\", port = \"5432\")\n",
    "print (\"Opened database successfully\")\n"
   ]
  },
  {
   "cell_type": "code",
   "execution_count": 1,
   "id": "cbdfc6fc",
   "metadata": {},
   "outputs": [
    {
     "ename": "NameError",
     "evalue": "name 'psycopg2' is not defined",
     "output_type": "error",
     "traceback": [
      "\u001b[1;31m---------------------------------------------------------------------------\u001b[0m",
      "\u001b[1;31mNameError\u001b[0m                                 Traceback (most recent call last)",
      "Cell \u001b[1;32mIn[1], line 1\u001b[0m\n\u001b[1;32m----> 1\u001b[0m conn \u001b[38;5;241m=\u001b[39m psycopg2\u001b[38;5;241m.\u001b[39mconnect(database\u001b[38;5;241m=\u001b[39m\u001b[38;5;124m\"\u001b[39m\u001b[38;5;124mpostgres\u001b[39m\u001b[38;5;124m\"\u001b[39m, user \u001b[38;5;241m=\u001b[39m \u001b[38;5;124m\"\u001b[39m\u001b[38;5;124mpostgres\u001b[39m\u001b[38;5;124m\"\u001b[39m, password \u001b[38;5;241m=\u001b[39m \u001b[38;5;124m\"\u001b[39m\u001b[38;5;124mpostgres\u001b[39m\u001b[38;5;124m\"\u001b[39m, host \u001b[38;5;241m=\u001b[39m \u001b[38;5;124m\"\u001b[39m\u001b[38;5;124mlocalhost\u001b[39m\u001b[38;5;124m\"\u001b[39m, port \u001b[38;5;241m=\u001b[39m \u001b[38;5;124m\"\u001b[39m\u001b[38;5;124m5432\u001b[39m\u001b[38;5;124m\"\u001b[39m)\n\u001b[0;32m      3\u001b[0m cur\u001b[38;5;241m=\u001b[39mconn\u001b[38;5;241m.\u001b[39mcursor()\n\u001b[0;32m      4\u001b[0m cur\u001b[38;5;241m.\u001b[39mexecute(\u001b[38;5;124m\"\u001b[39m\u001b[38;5;124mSELECT ID,NAME,AGE,ADDRESS,SALARY From COMPANY\u001b[39m\u001b[38;5;124m\"\u001b[39m)\n",
      "\u001b[1;31mNameError\u001b[0m: name 'psycopg2' is not defined"
     ]
    }
   ],
   "source": [
    "conn = psycopg2.connect(database=\"postgres\", user = \"postgres\", password = \"postgres\", host = \"localhost\", port = \"5432\")\n",
    "\n",
    "cur=conn.cursor()\n",
    "cur.execute(\"SELECT ID,NAME,AGE,ADDRESS,SALARY From COMPANY\")\n",
    "rows = cur.fetchall()\n",
    "for row in rows:\n",
    "    print(\"ID =\", row[0])\n",
    "    print(\"Name =\",row[1])\n",
    "    print(\"AGE =\", row[2])\n",
    "    print(\"Address =\",row[3])\n",
    "    print(\"SALARY = \", row[4],\"\\n\")\n",
    "print(\"Operations done successfully\")"
   ]
  },
  {
   "cell_type": "code",
   "execution_count": 2,
   "id": "93ad589e",
   "metadata": {},
   "outputs": [
    {
     "name": "stdout",
     "output_type": "stream",
     "text": [
      "Opened database successfully\n"
     ]
    }
   ],
   "source": [
    "import psycopg2\n",
    "\n",
    "conn = psycopg2.connect(database=\"postgres\", user = \"postgres\", password = \"postgres\", host = \"localhost\", port = \"5432\")\n",
    "\n",
    "print (\"Opened database successfully\")\n"
   ]
  },
  {
   "cell_type": "code",
   "execution_count": null,
   "id": "4e1a645e",
   "metadata": {},
   "outputs": [],
   "source": []
  }
 ],
 "metadata": {
  "kernelspec": {
   "display_name": "Python 3 (ipykernel)",
   "language": "python",
   "name": "python3"
  },
  "language_info": {
   "codemirror_mode": {
    "name": "ipython",
    "version": 3
   },
   "file_extension": ".py",
   "mimetype": "text/x-python",
   "name": "python",
   "nbconvert_exporter": "python",
   "pygments_lexer": "ipython3",
   "version": "3.11.5"
  }
 },
 "nbformat": 4,
 "nbformat_minor": 5
}
